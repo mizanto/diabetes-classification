{
 "cells": [
  {
   "cell_type": "code",
   "execution_count": 186,
   "id": "3de3e8a0-3ed5-43a2-998d-0a6a9cfb8627",
   "metadata": {},
   "outputs": [],
   "source": [
    "import pandas as pd\n",
    "import numpy as np\n",
    "\n",
    "from sklearn.model_selection import train_test_split, GridSearchCV\n",
    "from sklearn.linear_model import LogisticRegression\n",
    "from sklearn.ensemble import RandomForestClassifier\n",
    "from sklearn.pipeline import Pipeline\n",
    "from sklearn.metrics import classification_report\n",
    "\n",
    "%matplotlib inline"
   ]
  },
  {
   "cell_type": "code",
   "execution_count": 187,
   "id": "02ac35fd-db9c-401e-8ee5-86fe015e50cb",
   "metadata": {},
   "outputs": [
    {
     "data": {
      "text/html": [
       "<div>\n",
       "<style scoped>\n",
       "    .dataframe tbody tr th:only-of-type {\n",
       "        vertical-align: middle;\n",
       "    }\n",
       "\n",
       "    .dataframe tbody tr th {\n",
       "        vertical-align: top;\n",
       "    }\n",
       "\n",
       "    .dataframe thead th {\n",
       "        text-align: right;\n",
       "    }\n",
       "</style>\n",
       "<table border=\"1\" class=\"dataframe\">\n",
       "  <thead>\n",
       "    <tr style=\"text-align: right;\">\n",
       "      <th></th>\n",
       "      <th>age</th>\n",
       "      <th>gender</th>\n",
       "      <th>polyuria</th>\n",
       "      <th>polydipsia</th>\n",
       "      <th>sudden_weight_loss</th>\n",
       "      <th>weakness</th>\n",
       "      <th>polyphagia</th>\n",
       "      <th>genital_thrush</th>\n",
       "      <th>visual_blurring</th>\n",
       "      <th>itching</th>\n",
       "      <th>irritability</th>\n",
       "      <th>delayed_healing</th>\n",
       "      <th>partial_paresis</th>\n",
       "      <th>muscle_stiffness</th>\n",
       "      <th>alopecia</th>\n",
       "      <th>obesity</th>\n",
       "      <th>class</th>\n",
       "    </tr>\n",
       "  </thead>\n",
       "  <tbody>\n",
       "    <tr>\n",
       "      <th>0</th>\n",
       "      <td>40</td>\n",
       "      <td>Male</td>\n",
       "      <td>0</td>\n",
       "      <td>1</td>\n",
       "      <td>0</td>\n",
       "      <td>1</td>\n",
       "      <td>0</td>\n",
       "      <td>0</td>\n",
       "      <td>0</td>\n",
       "      <td>1</td>\n",
       "      <td>0</td>\n",
       "      <td>1</td>\n",
       "      <td>0</td>\n",
       "      <td>1</td>\n",
       "      <td>1</td>\n",
       "      <td>1</td>\n",
       "      <td>1</td>\n",
       "    </tr>\n",
       "    <tr>\n",
       "      <th>1</th>\n",
       "      <td>58</td>\n",
       "      <td>Male</td>\n",
       "      <td>0</td>\n",
       "      <td>0</td>\n",
       "      <td>0</td>\n",
       "      <td>1</td>\n",
       "      <td>0</td>\n",
       "      <td>0</td>\n",
       "      <td>1</td>\n",
       "      <td>0</td>\n",
       "      <td>0</td>\n",
       "      <td>0</td>\n",
       "      <td>1</td>\n",
       "      <td>0</td>\n",
       "      <td>1</td>\n",
       "      <td>0</td>\n",
       "      <td>1</td>\n",
       "    </tr>\n",
       "    <tr>\n",
       "      <th>2</th>\n",
       "      <td>41</td>\n",
       "      <td>Male</td>\n",
       "      <td>1</td>\n",
       "      <td>0</td>\n",
       "      <td>0</td>\n",
       "      <td>1</td>\n",
       "      <td>1</td>\n",
       "      <td>0</td>\n",
       "      <td>0</td>\n",
       "      <td>1</td>\n",
       "      <td>0</td>\n",
       "      <td>1</td>\n",
       "      <td>0</td>\n",
       "      <td>1</td>\n",
       "      <td>1</td>\n",
       "      <td>0</td>\n",
       "      <td>1</td>\n",
       "    </tr>\n",
       "    <tr>\n",
       "      <th>3</th>\n",
       "      <td>45</td>\n",
       "      <td>Male</td>\n",
       "      <td>0</td>\n",
       "      <td>0</td>\n",
       "      <td>1</td>\n",
       "      <td>1</td>\n",
       "      <td>1</td>\n",
       "      <td>1</td>\n",
       "      <td>0</td>\n",
       "      <td>1</td>\n",
       "      <td>0</td>\n",
       "      <td>1</td>\n",
       "      <td>0</td>\n",
       "      <td>0</td>\n",
       "      <td>0</td>\n",
       "      <td>0</td>\n",
       "      <td>1</td>\n",
       "    </tr>\n",
       "    <tr>\n",
       "      <th>4</th>\n",
       "      <td>60</td>\n",
       "      <td>Male</td>\n",
       "      <td>1</td>\n",
       "      <td>1</td>\n",
       "      <td>1</td>\n",
       "      <td>1</td>\n",
       "      <td>1</td>\n",
       "      <td>0</td>\n",
       "      <td>1</td>\n",
       "      <td>1</td>\n",
       "      <td>1</td>\n",
       "      <td>1</td>\n",
       "      <td>1</td>\n",
       "      <td>1</td>\n",
       "      <td>1</td>\n",
       "      <td>1</td>\n",
       "      <td>1</td>\n",
       "    </tr>\n",
       "  </tbody>\n",
       "</table>\n",
       "</div>"
      ],
      "text/plain": [
       "   age gender  polyuria  polydipsia  sudden_weight_loss  weakness  polyphagia  \\\n",
       "0   40   Male         0           1                   0         1           0   \n",
       "1   58   Male         0           0                   0         1           0   \n",
       "2   41   Male         1           0                   0         1           1   \n",
       "3   45   Male         0           0                   1         1           1   \n",
       "4   60   Male         1           1                   1         1           1   \n",
       "\n",
       "   genital_thrush  visual_blurring  itching  irritability  delayed_healing  \\\n",
       "0               0                0        1             0                1   \n",
       "1               0                1        0             0                0   \n",
       "2               0                0        1             0                1   \n",
       "3               1                0        1             0                1   \n",
       "4               0                1        1             1                1   \n",
       "\n",
       "   partial_paresis  muscle_stiffness  alopecia  obesity  class  \n",
       "0                0                 1         1        1      1  \n",
       "1                1                 0         1        0      1  \n",
       "2                0                 1         1        0      1  \n",
       "3                0                 0         0        0      1  \n",
       "4                1                 1         1        1      1  "
      ]
     },
     "execution_count": 187,
     "metadata": {},
     "output_type": "execute_result"
    }
   ],
   "source": [
    "df = pd.read_csv('../data/diabetes_data.csv', sep=';')\n",
    "df.head()"
   ]
  },
  {
   "cell_type": "code",
   "execution_count": 188,
   "id": "8d1c260f-0c9b-4abe-9cdc-263560d33ba3",
   "metadata": {},
   "outputs": [
    {
     "name": "stdout",
     "output_type": "stream",
     "text": [
      "<class 'pandas.core.frame.DataFrame'>\n",
      "RangeIndex: 520 entries, 0 to 519\n",
      "Data columns (total 17 columns):\n",
      " #   Column              Non-Null Count  Dtype \n",
      "---  ------              --------------  ----- \n",
      " 0   age                 520 non-null    int64 \n",
      " 1   gender              520 non-null    object\n",
      " 2   polyuria            520 non-null    int64 \n",
      " 3   polydipsia          520 non-null    int64 \n",
      " 4   sudden_weight_loss  520 non-null    int64 \n",
      " 5   weakness            520 non-null    int64 \n",
      " 6   polyphagia          520 non-null    int64 \n",
      " 7   genital_thrush      520 non-null    int64 \n",
      " 8   visual_blurring     520 non-null    int64 \n",
      " 9   itching             520 non-null    int64 \n",
      " 10  irritability        520 non-null    int64 \n",
      " 11  delayed_healing     520 non-null    int64 \n",
      " 12  partial_paresis     520 non-null    int64 \n",
      " 13  muscle_stiffness    520 non-null    int64 \n",
      " 14  alopecia            520 non-null    int64 \n",
      " 15  obesity             520 non-null    int64 \n",
      " 16  class               520 non-null    int64 \n",
      "dtypes: int64(16), object(1)\n",
      "memory usage: 69.2+ KB\n"
     ]
    }
   ],
   "source": [
    "df.info()"
   ]
  },
  {
   "cell_type": "code",
   "execution_count": 189,
   "id": "43a5118c-7cde-4536-aeff-69cd39c8a82a",
   "metadata": {},
   "outputs": [
    {
     "data": {
      "text/html": [
       "<div>\n",
       "<style scoped>\n",
       "    .dataframe tbody tr th:only-of-type {\n",
       "        vertical-align: middle;\n",
       "    }\n",
       "\n",
       "    .dataframe tbody tr th {\n",
       "        vertical-align: top;\n",
       "    }\n",
       "\n",
       "    .dataframe thead th {\n",
       "        text-align: right;\n",
       "    }\n",
       "</style>\n",
       "<table border=\"1\" class=\"dataframe\">\n",
       "  <thead>\n",
       "    <tr style=\"text-align: right;\">\n",
       "      <th></th>\n",
       "      <th>age</th>\n",
       "      <th>polyuria</th>\n",
       "      <th>polydipsia</th>\n",
       "      <th>sudden_weight_loss</th>\n",
       "      <th>weakness</th>\n",
       "      <th>polyphagia</th>\n",
       "      <th>genital_thrush</th>\n",
       "      <th>visual_blurring</th>\n",
       "      <th>itching</th>\n",
       "      <th>irritability</th>\n",
       "      <th>delayed_healing</th>\n",
       "      <th>partial_paresis</th>\n",
       "      <th>muscle_stiffness</th>\n",
       "      <th>alopecia</th>\n",
       "      <th>obesity</th>\n",
       "      <th>class</th>\n",
       "    </tr>\n",
       "  </thead>\n",
       "  <tbody>\n",
       "    <tr>\n",
       "      <th>count</th>\n",
       "      <td>520.000000</td>\n",
       "      <td>520.000000</td>\n",
       "      <td>520.000000</td>\n",
       "      <td>520.000000</td>\n",
       "      <td>520.000000</td>\n",
       "      <td>520.000000</td>\n",
       "      <td>520.000000</td>\n",
       "      <td>520.000000</td>\n",
       "      <td>520.000000</td>\n",
       "      <td>520.000000</td>\n",
       "      <td>520.000000</td>\n",
       "      <td>520.000000</td>\n",
       "      <td>520.000000</td>\n",
       "      <td>520.000000</td>\n",
       "      <td>520.000000</td>\n",
       "      <td>520.000000</td>\n",
       "    </tr>\n",
       "    <tr>\n",
       "      <th>mean</th>\n",
       "      <td>48.028846</td>\n",
       "      <td>0.496154</td>\n",
       "      <td>0.448077</td>\n",
       "      <td>0.417308</td>\n",
       "      <td>0.586538</td>\n",
       "      <td>0.455769</td>\n",
       "      <td>0.223077</td>\n",
       "      <td>0.448077</td>\n",
       "      <td>0.486538</td>\n",
       "      <td>0.242308</td>\n",
       "      <td>0.459615</td>\n",
       "      <td>0.430769</td>\n",
       "      <td>0.375000</td>\n",
       "      <td>0.344231</td>\n",
       "      <td>0.169231</td>\n",
       "      <td>0.615385</td>\n",
       "    </tr>\n",
       "    <tr>\n",
       "      <th>std</th>\n",
       "      <td>12.151466</td>\n",
       "      <td>0.500467</td>\n",
       "      <td>0.497776</td>\n",
       "      <td>0.493589</td>\n",
       "      <td>0.492928</td>\n",
       "      <td>0.498519</td>\n",
       "      <td>0.416710</td>\n",
       "      <td>0.497776</td>\n",
       "      <td>0.500300</td>\n",
       "      <td>0.428892</td>\n",
       "      <td>0.498846</td>\n",
       "      <td>0.495661</td>\n",
       "      <td>0.484589</td>\n",
       "      <td>0.475574</td>\n",
       "      <td>0.375317</td>\n",
       "      <td>0.486973</td>\n",
       "    </tr>\n",
       "    <tr>\n",
       "      <th>min</th>\n",
       "      <td>16.000000</td>\n",
       "      <td>0.000000</td>\n",
       "      <td>0.000000</td>\n",
       "      <td>0.000000</td>\n",
       "      <td>0.000000</td>\n",
       "      <td>0.000000</td>\n",
       "      <td>0.000000</td>\n",
       "      <td>0.000000</td>\n",
       "      <td>0.000000</td>\n",
       "      <td>0.000000</td>\n",
       "      <td>0.000000</td>\n",
       "      <td>0.000000</td>\n",
       "      <td>0.000000</td>\n",
       "      <td>0.000000</td>\n",
       "      <td>0.000000</td>\n",
       "      <td>0.000000</td>\n",
       "    </tr>\n",
       "    <tr>\n",
       "      <th>25%</th>\n",
       "      <td>39.000000</td>\n",
       "      <td>0.000000</td>\n",
       "      <td>0.000000</td>\n",
       "      <td>0.000000</td>\n",
       "      <td>0.000000</td>\n",
       "      <td>0.000000</td>\n",
       "      <td>0.000000</td>\n",
       "      <td>0.000000</td>\n",
       "      <td>0.000000</td>\n",
       "      <td>0.000000</td>\n",
       "      <td>0.000000</td>\n",
       "      <td>0.000000</td>\n",
       "      <td>0.000000</td>\n",
       "      <td>0.000000</td>\n",
       "      <td>0.000000</td>\n",
       "      <td>0.000000</td>\n",
       "    </tr>\n",
       "    <tr>\n",
       "      <th>50%</th>\n",
       "      <td>47.500000</td>\n",
       "      <td>0.000000</td>\n",
       "      <td>0.000000</td>\n",
       "      <td>0.000000</td>\n",
       "      <td>1.000000</td>\n",
       "      <td>0.000000</td>\n",
       "      <td>0.000000</td>\n",
       "      <td>0.000000</td>\n",
       "      <td>0.000000</td>\n",
       "      <td>0.000000</td>\n",
       "      <td>0.000000</td>\n",
       "      <td>0.000000</td>\n",
       "      <td>0.000000</td>\n",
       "      <td>0.000000</td>\n",
       "      <td>0.000000</td>\n",
       "      <td>1.000000</td>\n",
       "    </tr>\n",
       "    <tr>\n",
       "      <th>75%</th>\n",
       "      <td>57.000000</td>\n",
       "      <td>1.000000</td>\n",
       "      <td>1.000000</td>\n",
       "      <td>1.000000</td>\n",
       "      <td>1.000000</td>\n",
       "      <td>1.000000</td>\n",
       "      <td>0.000000</td>\n",
       "      <td>1.000000</td>\n",
       "      <td>1.000000</td>\n",
       "      <td>0.000000</td>\n",
       "      <td>1.000000</td>\n",
       "      <td>1.000000</td>\n",
       "      <td>1.000000</td>\n",
       "      <td>1.000000</td>\n",
       "      <td>0.000000</td>\n",
       "      <td>1.000000</td>\n",
       "    </tr>\n",
       "    <tr>\n",
       "      <th>max</th>\n",
       "      <td>90.000000</td>\n",
       "      <td>1.000000</td>\n",
       "      <td>1.000000</td>\n",
       "      <td>1.000000</td>\n",
       "      <td>1.000000</td>\n",
       "      <td>1.000000</td>\n",
       "      <td>1.000000</td>\n",
       "      <td>1.000000</td>\n",
       "      <td>1.000000</td>\n",
       "      <td>1.000000</td>\n",
       "      <td>1.000000</td>\n",
       "      <td>1.000000</td>\n",
       "      <td>1.000000</td>\n",
       "      <td>1.000000</td>\n",
       "      <td>1.000000</td>\n",
       "      <td>1.000000</td>\n",
       "    </tr>\n",
       "  </tbody>\n",
       "</table>\n",
       "</div>"
      ],
      "text/plain": [
       "              age    polyuria  polydipsia  sudden_weight_loss    weakness  \\\n",
       "count  520.000000  520.000000  520.000000          520.000000  520.000000   \n",
       "mean    48.028846    0.496154    0.448077            0.417308    0.586538   \n",
       "std     12.151466    0.500467    0.497776            0.493589    0.492928   \n",
       "min     16.000000    0.000000    0.000000            0.000000    0.000000   \n",
       "25%     39.000000    0.000000    0.000000            0.000000    0.000000   \n",
       "50%     47.500000    0.000000    0.000000            0.000000    1.000000   \n",
       "75%     57.000000    1.000000    1.000000            1.000000    1.000000   \n",
       "max     90.000000    1.000000    1.000000            1.000000    1.000000   \n",
       "\n",
       "       polyphagia  genital_thrush  visual_blurring     itching  irritability  \\\n",
       "count  520.000000      520.000000       520.000000  520.000000    520.000000   \n",
       "mean     0.455769        0.223077         0.448077    0.486538      0.242308   \n",
       "std      0.498519        0.416710         0.497776    0.500300      0.428892   \n",
       "min      0.000000        0.000000         0.000000    0.000000      0.000000   \n",
       "25%      0.000000        0.000000         0.000000    0.000000      0.000000   \n",
       "50%      0.000000        0.000000         0.000000    0.000000      0.000000   \n",
       "75%      1.000000        0.000000         1.000000    1.000000      0.000000   \n",
       "max      1.000000        1.000000         1.000000    1.000000      1.000000   \n",
       "\n",
       "       delayed_healing  partial_paresis  muscle_stiffness    alopecia  \\\n",
       "count       520.000000       520.000000        520.000000  520.000000   \n",
       "mean          0.459615         0.430769          0.375000    0.344231   \n",
       "std           0.498846         0.495661          0.484589    0.475574   \n",
       "min           0.000000         0.000000          0.000000    0.000000   \n",
       "25%           0.000000         0.000000          0.000000    0.000000   \n",
       "50%           0.000000         0.000000          0.000000    0.000000   \n",
       "75%           1.000000         1.000000          1.000000    1.000000   \n",
       "max           1.000000         1.000000          1.000000    1.000000   \n",
       "\n",
       "          obesity       class  \n",
       "count  520.000000  520.000000  \n",
       "mean     0.169231    0.615385  \n",
       "std      0.375317    0.486973  \n",
       "min      0.000000    0.000000  \n",
       "25%      0.000000    0.000000  \n",
       "50%      0.000000    1.000000  \n",
       "75%      0.000000    1.000000  \n",
       "max      1.000000    1.000000  "
      ]
     },
     "execution_count": 189,
     "metadata": {},
     "output_type": "execute_result"
    }
   ],
   "source": [
    "df.describe()"
   ]
  },
  {
   "cell_type": "code",
   "execution_count": 190,
   "id": "aa500b32-61be-4bac-a379-d73c74c27a1d",
   "metadata": {},
   "outputs": [
    {
     "data": {
      "text/plain": [
       "age                   0\n",
       "gender                0\n",
       "polyuria              0\n",
       "polydipsia            0\n",
       "sudden_weight_loss    0\n",
       "weakness              0\n",
       "polyphagia            0\n",
       "genital_thrush        0\n",
       "visual_blurring       0\n",
       "itching               0\n",
       "irritability          0\n",
       "delayed_healing       0\n",
       "partial_paresis       0\n",
       "muscle_stiffness      0\n",
       "alopecia              0\n",
       "obesity               0\n",
       "class                 0\n",
       "dtype: int64"
      ]
     },
     "execution_count": 190,
     "metadata": {},
     "output_type": "execute_result"
    }
   ],
   "source": [
    "df.isnull().sum()"
   ]
  },
  {
   "cell_type": "code",
   "execution_count": 191,
   "id": "1d3c34e3-3994-416e-9cc0-f60f0bfa2f22",
   "metadata": {},
   "outputs": [],
   "source": [
    "df['gender'] = df['gender'].map({'Male': 0, 'Female': 1})"
   ]
  },
  {
   "cell_type": "code",
   "execution_count": 192,
   "id": "501e6cf9-b2d8-49f5-b90a-ab17d2f23435",
   "metadata": {},
   "outputs": [
    {
     "data": {
      "image/png": "[encoded data removed]",
      "text/plain": [
       "<Figure size 600x400 with 1 Axes>"
      ]
     },
     "metadata": {},
     "output_type": "display_data"
    }
   ],
   "source": [
    "plt.figure(figsize=(6, 4))\n",
    "sns.boxplot(x='class', y='age', data=df)\n",
    "plt.show()"
   ]
  },
  {
   "cell_type": "code",
   "execution_count": 193,
   "id": "b3172ab1-61d1-4200-a69e-a98f69e4a076",
   "metadata": {},
   "outputs": [],
   "source": [
    "cat_variables = ['gender', 'polyuria', 'polydipsia', 'sudden_weight_loss', \n",
    "                 'weakness', 'polyphagia', 'genital_thrush', 'visual_blurring', \n",
    "                 'itching', 'irritability', 'delayed_healing', 'partial_paresis', \n",
    "                 'muscle_stiffness', 'alopecia', 'obesity']"
   ]
  },
  {
   "cell_type": "code",
   "execution_count": 194,
   "id": "008ac350-74bb-4ed7-a8c3-503179bee300",
   "metadata": {},
   "outputs": [
    {
     "name": "stdout",
     "output_type": "stream",
     "text": [
      "Correlation with target variable 'class':\n",
      "polyuria: 0.6611\n",
      "polydipsia: 0.6439\n",
      "gender: 0.4434\n",
      "sudden_weight_loss: 0.4307\n",
      "partial_paresis: 0.4265\n",
      "polyphagia: 0.3360\n",
      "irritability: 0.2919\n",
      "alopecia: 0.2599\n",
      "visual_blurring: 0.2436\n",
      "weakness: 0.2354\n",
      "muscle_stiffness: 0.1101\n",
      "genital_thrush: 0.0961\n",
      "obesity: 0.0505\n",
      "itching: 0.0000\n",
      "delayed_healing: 0.0000\n"
     ]
    }
   ],
   "source": [
    "target_variable = 'class'\n",
    "corr_with_target = {}\n",
    "\n",
    "for variable in cat_variables:\n",
    "    corr_with_target[variable] = cramers_v(df[variable], df[target_variable])\n",
    "\n",
    "sorted_corr = sorted(corr_with_target.items(), key=lambda item: item[1], reverse=True)\n",
    "\n",
    "print(\"Correlation with target variable 'class':\")\n",
    "for variable, corr in sorted_corr:\n",
    "    print(f\"{variable}: {corr:.4f}\")"
   ]
  },
  {
   "cell_type": "code",
   "execution_count": 176,
   "id": "6485625d-1285-4512-97da-b1e8e86c67f3",
   "metadata": {},
   "outputs": [
    {
     "name": "stdout",
     "output_type": "stream",
     "text": [
      "Переменные, считающиеся значимыми на основе порога корреляции Крамера:\n",
      "gender: 0.4434\n",
      "polyuria: 0.6611\n",
      "polydipsia: 0.6439\n",
      "sudden_weight_loss: 0.4307\n",
      "weakness: 0.2354\n",
      "polyphagia: 0.3360\n",
      "visual_blurring: 0.2436\n",
      "irritability: 0.2919\n",
      "partial_paresis: 0.4265\n",
      "muscle_stiffness: 0.1101\n",
      "alopecia: 0.2599\n"
     ]
    }
   ],
   "source": [
    "correlation_threshold = 0.1\n",
    "\n",
    "# Фильтруем и сохраняем только те переменные, корреляция которых с целевой переменной выше порога\n",
    "significant_variables = [var for var, corr in corr_with_target.items() if corr > correlation_threshold]\n",
    "\n",
    "print(\"Переменные, считающиеся значимыми на основе порога корреляции Крамера:\")\n",
    "for var in significant_variables:\n",
    "    print(f\"{var}: {corr_with_target[var]:.4f}\")"
   ]
  },
  {
   "cell_type": "code",
   "execution_count": 177,
   "id": "329d647d-bb17-4952-801b-f73b5535742e",
   "metadata": {},
   "outputs": [
    {
     "data": {
      "image/png": "[encoded data removed]",
      "text/plain": [
       "<Figure size 1200x400 with 11 Axes>"
      ]
     },
     "metadata": {},
     "output_type": "display_data"
    }
   ],
   "source": [
    "def plot_all_categorical_distributions(data, variables, target):\n",
    "    # костыль\n",
    "    data[target] = data[target].astype(str)\n",
    "    for variable in variables:\n",
    "        data[variable] = data[variable].astype(str)\n",
    "    \n",
    "    # grid\n",
    "    n_cols = 6\n",
    "    n_rows = len(variables) // n_cols + (len(variables) % n_cols > 0)\n",
    "    \n",
    "    # figures\n",
    "    fig, axs = plt.subplots(n_rows, n_cols, figsize=(12, 2 * n_rows))\n",
    "    \n",
    "    if n_rows == 1:\n",
    "        axs = axs.reshape(1, -1)\n",
    "    elif n_cols == 1:\n",
    "        axs = axs.reshape(-1, 1)\n",
    "    \n",
    "    for i, variable in enumerate(variables):\n",
    "        row = i // n_cols\n",
    "        col = i % n_cols\n",
    "        ax = axs[row, col]\n",
    "        sns.countplot(x=variable, hue=target, data=data, ax=ax)\n",
    "        ax.set_title(variable)\n",
    "        ax.set_xlabel('')\n",
    "        ax.set_ylabel('')\n",
    "        ax.legend(title=target, loc='upper right')\n",
    "    \n",
    "    for j in range(i + 1, n_rows * n_cols):\n",
    "        fig.delaxes(axs.flatten()[j])\n",
    "    \n",
    "    plt.tight_layout()\n",
    "    plt.show()\n",
    "\n",
    "# Вызов функции визуализации\n",
    "plot_all_categorical_distributions(df, significant_variables, 'class')"
   ]
  },
  {
   "cell_type": "code",
   "execution_count": 195,
   "id": "c5df051b-3cb4-4408-b1f3-ce053cc0436e",
   "metadata": {},
   "outputs": [],
   "source": [
    "from sklearn.model_selection import train_test_split\n",
    "\n",
    "\n",
    "X = df[['age'] + significant_variables]\n",
    "y = df['class']\n",
    "X_train, X_test, y_train, y_test = train_test_split(X, y, test_size=0.2, random_state=42)"
   ]
  },
  {
   "cell_type": "code",
   "execution_count": 196,
   "id": "12b855ad-e1fc-4152-973b-5cb41ada133f",
   "metadata": {},
   "outputs": [],
   "source": [
    "lr = LogisticRegression(max_iter=1000)"
   ]
  },
  {
   "cell_type": "code",
   "execution_count": 197,
   "id": "89b8c445-2688-4c55-b436-65836ab6923e",
   "metadata": {},
   "outputs": [
    {
     "name": "stdout",
     "output_type": "stream",
     "text": [
      "Best params (Linear Regression): {'C': 1, 'penalty': 'l1', 'solver': 'liblinear'}\n",
      "Best score (Linear Regression): 0.9157773952954675\n"
     ]
    }
   ],
   "source": [
    "param_grid_lr = {\n",
    "  'penalty': ['l1', 'l2'],\n",
    "  'C': [0.1, 1, 10],\n",
    "  'solver': ['liblinear'] \n",
    "}\n",
    "\n",
    "CV_model = GridSearchCV(estimator=lr, param_grid=param_grid_lr, cv=5)\n",
    "CV_model.fit(X_train, y_train)\n",
    "print('Best params (Linear Regression):', CV_model.best_params_)\n",
    "print('Best score (Linear Regression):', CV_model.best_score_)"
   ]
  },
  {
   "cell_type": "code",
   "execution_count": 198,
   "id": "4dba33d0-0bcd-4672-b4bc-1ff6bbcf22b7",
   "metadata": {},
   "outputs": [
    {
     "name": "stdout",
     "output_type": "stream",
     "text": [
      "Best params (Random Forest): {'max_depth': 20, 'min_samples_leaf': 1, 'min_samples_split': 2, 'n_estimators': 10}\n",
      "Best score (Random Forest): 0.9711130235226622\n"
     ]
    }
   ],
   "source": [
    "param_grid_rfc = {\n",
    "  'n_estimators': [5, 10, 20],  # Number of trees\n",
    "  'max_depth': [5, 10, 20],  # Maximum depth of the tree\n",
    "  'min_samples_split': [2, 5, 10],  # Minimum number of samples required to split a node\n",
    "  'min_samples_leaf': [1, 2, 4]  # Minimum number of samples required to be at a leaf node\n",
    "}\n",
    "\n",
    "rfc = RandomForestClassifier()\n",
    "CV_model = GridSearchCV(estimator=rfc, param_grid=param_grid_rfc, cv=5)\n",
    "CV_model.fit(X_train, y_train)\n",
    "print('Best params (Random Forest):', CV_model.best_params_)\n",
    "print('Best score (Random Forest):', CV_model.best_score_)"
   ]
  },
  {
   "cell_type": "code",
   "execution_count": 199,
   "id": "df2749eb-aac8-470f-b2fa-9e9229864913",
   "metadata": {},
   "outputs": [
    {
     "name": "stdout",
     "output_type": "stream",
     "text": [
      "0.9615384615384616\n"
     ]
    }
   ],
   "source": [
    "rfc_tuned = RandomForestClassifier(max_depth=20, min_samples_leaf=1, min_samples_split=2, n_estimators=5)\n",
    "rfc_tuned.fit(X_train, y_train)\n",
    "print(rfc_tuned.score(X_test, y_test))"
   ]
  },
  {
   "cell_type": "code",
   "execution_count": 200,
   "id": "f257a22c-8c96-4d2c-aab2-a7892eedf5f5",
   "metadata": {},
   "outputs": [
    {
     "name": "stdout",
     "output_type": "stream",
     "text": [
      "Fitting 5 folds for each of 87 candidates, totalling 435 fits\n",
      "Best params: {'classifier': RandomForestClassifier(max_depth=10, n_estimators=10), 'classifier__max_depth': 10, 'classifier__min_samples_leaf': 1, 'classifier__min_samples_split': 2, 'classifier__n_estimators': 10}\n",
      "Best estimator: Pipeline(steps=[('classifier',\n",
      "                 RandomForestClassifier(max_depth=10, n_estimators=10))])\n"
     ]
    }
   ],
   "source": [
    "search_space = [\n",
    "    {\n",
    "        'classifier': [LogisticRegression()],\n",
    "        'classifier__penalty': ['l1', 'l2'],\n",
    "        'classifier__C': [0.1, 1, 10],\n",
    "        'classifier__solver': ['liblinear']\n",
    "    },\n",
    "    {\n",
    "        'classifier': [RandomForestClassifier()],\n",
    "        'classifier__n_estimators': [5, 10, 20],\n",
    "        'classifier__max_depth': [5, 10, 20],\n",
    "        'classifier__min_samples_split': [2, 5, 10],\n",
    "        'classifier__min_samples_leaf': [1, 2, 4]\n",
    "    }\n",
    "]\n",
    "\n",
    "pipeline = Pipeline(steps=[('classifier', LogisticRegression())])\n",
    "CV_model = GridSearchCV(estimator=pipeline, param_grid=search_space, cv=5, verbose=1, n_jobs=-1)\n",
    "CV_model.fit(X_train, y_train)\n",
    "\n",
    "print('Best params:', CV_model.best_params_)\n",
    "print('Best estimator:', CV_model.best_estimator_)"
   ]
  },
  {
   "cell_type": "code",
   "execution_count": 201,
   "id": "f9e9bd00-dae8-4cb6-a3f0-329f7e1f899f",
   "metadata": {},
   "outputs": [
    {
     "name": "stdout",
     "output_type": "stream",
     "text": [
      "              precision    recall  f1-score   support\n",
      "\n",
      "           0       0.94      1.00      0.97        33\n",
      "           1       1.00      0.97      0.99        71\n",
      "\n",
      "    accuracy                           0.98       104\n",
      "   macro avg       0.97      0.99      0.98       104\n",
      "weighted avg       0.98      0.98      0.98       104\n",
      "\n"
     ]
    }
   ],
   "source": [
    "best_model = CV_model.best_estimator_\n",
    "y_pred = best_model.predict(X_test)\n",
    "print(classification_report(y_test, y_pred))"
   ]
  },
  {
   "cell_type": "code",
   "execution_count": 202,
   "id": "ae113f3f-c9fe-475e-a135-c898464a99c4",
   "metadata": {},
   "outputs": [
    {
     "data": {
      "text/plain": [
       "0.9807692307692307"
      ]
     },
     "execution_count": 202,
     "metadata": {},
     "output_type": "execute_result"
    }
   ],
   "source": [
    "model = RandomForestClassifier(max_depth=20, n_estimators=20)\n",
    "model.fit(X_train, y_train)\n",
    "model.score(X_test, y_test)"
   ]
  },
  {
   "cell_type": "code",
   "execution_count": null,
   "id": "8878d9bb-9cad-45d3-8171-01602d96215f",
   "metadata": {},
   "outputs": [],
   "source": []
  },
  {
   "cell_type": "code",
   "execution_count": null,
   "id": "654a6435-44e7-4b49-b13c-ebc4a8bffc83",
   "metadata": {},
   "outputs": [],
   "source": []
  }
 ],
 "metadata": {
  "kernelspec": {
   "display_name": "Python 3 (ipykernel)",
   "language": "python",
   "name": "python3"
  },
  "language_info": {
   "codemirror_mode": {
    "name": "ipython",
    "version": 3
   },
   "file_extension": ".py",
   "mimetype": "text/x-python",
   "name": "python",
   "nbconvert_exporter": "python",
   "pygments_lexer": "ipython3",
   "version": "3.11.5"
  }
 },
 "nbformat": 4,
 "nbformat_minor": 5
}
